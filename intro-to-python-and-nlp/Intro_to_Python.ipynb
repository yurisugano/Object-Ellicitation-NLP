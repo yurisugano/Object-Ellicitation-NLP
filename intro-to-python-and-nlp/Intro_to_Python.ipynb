{
  "nbformat": 4,
  "nbformat_minor": 0,
  "metadata": {
    "colab": {
      "provenance": []
    },
    "kernelspec": {
      "name": "python3",
      "display_name": "Python 3"
    },
    "language_info": {
      "name": "python"
    }
  },
  "cells": [
    {
      "cell_type": "markdown",
      "source": [
        "# Intro to Markdown\n",
        "\n",
        "What you are seeing is a Markdown file. It is a text document format that is fairly easy to write.\n",
        "\n",
        "Markdown is organized in blocks. Blocks can contain either text or code. This is a text block. You can edit a block by double clicking in it. An editor view will pop up.\n",
        "\n",
        "You can use the user interface to add elements such as **bold text**, links or pictures. All these elements are converted to plain text and you can inspect what they look like in the background in edit mode. For instance, if you activate edit mode, you will see that a text is bold when it is surrounded by two asterisks, as in `**bold text**`.  You will also see that surrounding text in backticks displays it as a code snipet. This is useful for referencing code in code blocks.\n",
        "\n"
      ],
      "metadata": {
        "id": "JKoKkZSuehZH"
      }
    },
    {
      "cell_type": "markdown",
      "source": [
        "# Variables and Functions\n",
        "\n",
        "The most basic objects in Python are **variables**. You can create a variable by giving it a name, using an equal sign, and assigning it a value. So `a = 2` creates a variable named `a` that stores a value of 2.\n",
        "\n",
        "\n",
        "Another important concept is a function. Each function performs, well, a function. Most functions you will use have been created and distributed either by Python itself, or through several packages we will use, such as the Natural Language Toolkit (nltk) package.\n",
        "\n",
        "The code below defines a function named `mean()`. To differentiate functions from variables, functions receive parenthesis. The function we define takes two **arguments**, `number1` and `number2`. Note that these are **local variables**, they only exist within the function.\n",
        "\n",
        "The function then creates a new local variable called `sum` which takes the sum of both numbers. Python handles mathematical operations as you would expect. The function creates another local variable called `average`. Lastly, the function returns the value assigned to `average`.\n",
        "\n",
        "We **call** a function by its name, and add any arguments inside parenthesis. The function returns only what `return` dictates. We typically don't see what's going on in the background of functions.\n",
        "\n",
        "The following block is a code block. It will introduce some basic Python functionality. Note that the code block has a \"run\" option. Running a code block will execute the code and print any outputs from that code."
      ],
      "metadata": {
        "id": "Ob_nr4vNg81j"
      }
    },
    {
      "cell_type": "code",
      "execution_count": 1,
      "metadata": {
        "id": "yJ_n1p7Lee9t",
        "colab": {
          "base_uri": "https://localhost:8080/"
        },
        "outputId": "d1e32c83-e450-4d93-cae0-f967f01a0188"
      },
      "outputs": [
        {
          "output_type": "execute_result",
          "data": {
            "text/plain": [
              "3.0"
            ]
          },
          "metadata": {},
          "execution_count": 1
        }
      ],
      "source": [
        "# This is a code block. You can add text as comments by starting a line with a hashtag\n",
        "\n",
        "'''\n",
        "You can add multiple lines of text by surrounding your paragraph in three single quotation marks.\n",
        "\n",
        "Since Markdown allows for text blocks, this is often unnecessary\n",
        "'''\n",
        "\n",
        "a = 2\n",
        "b = 4\n",
        "c = \"Hello!\"\n",
        "\n",
        "def mean(number1, number2):\n",
        "    sum = number1 + number2\n",
        "    average = sum / 2\n",
        "    return average\n",
        "\n",
        "mean(a, b)"
      ]
    },
    {
      "cell_type": "markdown",
      "source": [
        "# Object types\n",
        "\n",
        "Each object, such as a variable, has a **type**. You can learn what the type of an object is with the `type()` function. You can print messages after the code block with the `print()` function.\n",
        "\n",
        "We used both functions to print the type of `a`. When `a = 5`, `a` is a string (as noted by the `<class 'int'>` output).\n",
        "\n",
        "We can re-assign values to variables and, in Python, types are changed automatically. So after changing `a` to `Hello Ruby`, `a` becomes a string variable.\n",
        "\n",
        "Here are the types of variables you will typically encounter:\n",
        "\n",
        "* Integers (`int`): Positive or negative whole numbers\n",
        "* Floating-point (`float`): Positive or negative numbers with a decimal point.\n",
        "* Strings(`str`): A single character or a group of characters. Strings are created with double-quotes (`\"\" \"\"`) or single quotes (`' '`) in Python.\n",
        "* Boolean (`bool`): A variable that can only be `true` or `false`\n",
        "\n",
        "The following code shows some examples:"
      ],
      "metadata": {
        "id": "2s2uKQBnkVOy"
      }
    },
    {
      "cell_type": "code",
      "source": [
        "a = 5.2\n",
        "print(type(a))\n",
        "\n",
        "a = \"Hello\"\n",
        "print(type(a))\n",
        "print(len(a))"
      ],
      "metadata": {
        "id": "KtQXbXorkFPF",
        "colab": {
          "base_uri": "https://localhost:8080/"
        },
        "outputId": "6c212fae-f96f-401a-ee89-513718b111b8"
      },
      "execution_count": 2,
      "outputs": [
        {
          "output_type": "stream",
          "name": "stdout",
          "text": [
            "<class 'float'>\n",
            "<class 'str'>\n",
            "5\n"
          ]
        }
      ]
    },
    {
      "cell_type": "code",
      "source": [
        "# Values can be passed directly to functions, no need to assign them to variables first\n",
        "print(type(5))\n",
        "\n",
        "# Python handles object types automatically\n",
        "print(type(5.0))\n",
        "\n",
        "print(type(\"5\"))\n",
        "\n",
        "# You can perform operators with any type of number objects.\n",
        "print(5 + 5)\n",
        "print(type(5 + 5))\n",
        "\n",
        "# Integers are converted to float automatically\n",
        "print(5 + 2.0)\n",
        "print(type(5 + 2.0))\n",
        "\n",
        "# You can use the == operator to check if two values are equal. This returns a bool\n",
        "print(5 == 5)\n",
        "\n",
        "print(type(5 == 5))"
      ],
      "metadata": {
        "id": "1TG8W9JumCgV",
        "colab": {
          "base_uri": "https://localhost:8080/"
        },
        "outputId": "434f8edb-483c-43e4-bad2-80fd609a88c5"
      },
      "execution_count": 3,
      "outputs": [
        {
          "output_type": "stream",
          "name": "stdout",
          "text": [
            "<class 'int'>\n",
            "<class 'float'>\n",
            "<class 'str'>\n",
            "10\n",
            "<class 'int'>\n",
            "7.0\n",
            "<class 'float'>\n",
            "True\n",
            "<class 'bool'>\n"
          ]
        }
      ]
    },
    {
      "cell_type": "markdown",
      "source": [
        "# Diving deeper into objects!\n",
        "\n",
        "You will rarely work with single objects alone. Objects are grouped in Python in a few different ways\n",
        "\n",
        "You create groups of objects the same way you create a variable: give it a name, equal sign, and the values it should have. The formatting of the inputs will determine the data type. See below for examples\n",
        "\n",
        "## Lists (and modules!)\n",
        "Lists are a ordered collection of objects. As such, you access elements in a list by their position. List objects can be of any data type!\n",
        "\n",
        "Lists are created with square braces  `[ ]`\n",
        "\n",
        "An important point: **Python uses 0 indexing**, which means you start counting from 0, not one. The first object of a list is in position 0.\n",
        "\n",
        "Here another important concept is introduced: methods. Methods are functions that objects can perform. Methods of an object can be accessed with the dot operator `.`. You will see a few examples below:\n"
      ],
      "metadata": {
        "id": "wTFIBn6cnxH3"
      }
    },
    {
      "cell_type": "code",
      "source": [
        "# You can declare several variables at the same time\n",
        "a, b, c = 1, 2, 3\n",
        "print(a + b)\n",
        "print(a + b == c)\n",
        "\n",
        "# You can create a list with square braces.\n",
        "first_list = [a, b, c]\n",
        "print(first_list)\n",
        "print(type(first_list))\n",
        "\n",
        "# You can access list objects with square braces indicating their position\n",
        "print(first_list[0])\n",
        "\n",
        "# The len function returns the size of the list\n",
        "print(len(first_list))\n",
        "\n",
        "# You can change objects in a list. A list can contain any object types.\n",
        "first_list[2] = \"Hello\"\n",
        "print(first_list)\n",
        "\n",
        "# You can add objects to a list with the append module\n",
        "\n",
        "first_list.append(2)\n",
        "print(first_list)"
      ],
      "metadata": {
        "id": "5ZHXy2xHopec",
        "colab": {
          "base_uri": "https://localhost:8080/"
        },
        "outputId": "77b1f26c-6398-49f2-ca2d-e183507d3d1e"
      },
      "execution_count": 5,
      "outputs": [
        {
          "output_type": "stream",
          "name": "stdout",
          "text": [
            "3\n",
            "True\n",
            "[1, 2, 3]\n",
            "<class 'list'>\n",
            "1\n",
            "3\n",
            "[1, 2, 'Hello']\n",
            "[1, 2, 'Hello', 2]\n"
          ]
        }
      ]
    },
    {
      "cell_type": "markdown",
      "source": [
        "## Dictionaries\n",
        "\n",
        "Dictionaries are unordered key-value pairs. As such, the main difference between dictionaries and lists is that you access dictionary elements by their name, while you access list elements by their position. Dictionaries are created using square brackets `{ }`"
      ],
      "metadata": {
        "id": "qKUp0Xvws9_K"
      }
    },
    {
      "cell_type": "code",
      "source": [
        "first_dictionary = {'a': 1,\n",
        "                    'b': 2,\n",
        "                    'c': 3}\n",
        "\n",
        "print(first_dictionary)\n",
        "\n",
        "first_dictionary['c']\n",
        "\n",
        "# You can change elements by their name\n",
        "first_dictionary['a'] = \"Hello\"\n",
        "#If 'a' is the name, what is the meaning of the numbers in this dictionary?\n",
        "\n",
        "print(first_dictionary)"
      ],
      "metadata": {
        "id": "jzhTW9KctjQE",
        "colab": {
          "base_uri": "https://localhost:8080/"
        },
        "outputId": "98f9c662-89d8-4081-e1cf-4815cf092417"
      },
      "execution_count": 6,
      "outputs": [
        {
          "output_type": "stream",
          "name": "stdout",
          "text": [
            "{'a': 1, 'b': 2, 'c': 3}\n",
            "{'a': 'Hello', 'b': 2, 'c': 3}\n"
          ]
        }
      ]
    },
    {
      "cell_type": "markdown",
      "source": [
        "## Arrays\n",
        "Arrays work very similarly to lists, however they are more efficient in the background and are preferred for tasks that demand heavy computation. Importantly, **array elements are all of the same type**\n",
        "\n",
        "Python does not have a \"native\" array format, so we will also learn how to use libraries.\n",
        "\n",
        "\n",
        "The most popular array library is `numpy`. Numpy is considered the state-of-the-art library for numerical operations. You can import a list with the `import` command. We will use various Numpy modules with the dot operator as well.\n",
        "\n",
        "We can create a numpy array with the `.array` module. It takes a list as an argument."
      ],
      "metadata": {
        "id": "ZkthphH_uRqj"
      }
    },
    {
      "cell_type": "code",
      "source": [
        "# We import the Numpy library and save it in an object named np\n",
        "import numpy as np\n",
        "\n",
        "a, b, c = 1, 2, 3\n",
        "\n",
        "# Create an array with the values. Note the list notation inside the parenthesis\n",
        "first_array = np.array([a, b, c])\n",
        "\n",
        "# Is is cleaner to create a list first\n",
        "first_list = [a, b, c]\n",
        "second_array = np.array(first_list)\n",
        "\n",
        "# Check if the elements in both array are the same as expected\n",
        "print(first_array == second_array)\n",
        "\n",
        "# Access elements by their index, as you would with a list\n",
        "print(first_array[0])"
      ],
      "metadata": {
        "id": "qQjp09P1vFwg",
        "colab": {
          "base_uri": "https://localhost:8080/"
        },
        "outputId": "18343622-8315-4a07-861a-bb7331c40849"
      },
      "execution_count": 7,
      "outputs": [
        {
          "output_type": "stream",
          "name": "stdout",
          "text": [
            "[ True  True  True]\n",
            "1\n"
          ]
        }
      ]
    },
    {
      "cell_type": "markdown",
      "source": [
        "# Additional functionality\n",
        "\n",
        "Here is a comprehensive list of more advanced concepts you may encounter. In particular to language processing, we also dive deeper into working with strings since they are the main unit of analysis\n"
      ],
      "metadata": {
        "id": "yQhxvMfFxUpl"
      }
    },
    {
      "cell_type": "code",
      "source": [
        "'''\n",
        "Access string characters using their position, as you would with a list.\n",
        "\n",
        "In fact, it is useful to think of a string as a list of individual characters\n",
        "'''\n",
        "\n",
        "sentence = \"Hello, my name is Ruby\"\n",
        "\n",
        "print(sentence[0])\n",
        "\n",
        "# Slicing selects based on a range rather than a single position\n",
        "print(sentence[0:5])\n",
        "\n",
        "# Omiting the first number selects from the beginning\n",
        "print(sentence[:5])\n",
        "\n",
        "# Omiting the last number selects until the end\n",
        "print(sentence[6:])\n",
        "\n",
        "# A negative sign selects from the end\n",
        "print(sentence[-1])\n",
        "\n",
        "# You can combine these to select the last n characters\n",
        "print(sentence[-4:])\n",
        "\n",
        "# The code above slices from the last fourth character to the end\n",
        "\n",
        "# You can concatenate strings\n",
        "print(sentence[:5] + \",\", sentence[6:] + \", nice to meet you.\")"
      ],
      "metadata": {
        "id": "1K4DKwVLxWEA",
        "collapsed": true,
        "colab": {
          "base_uri": "https://localhost:8080/"
        },
        "outputId": "da6c814a-6ab8-447b-80cd-670fdcd489fb"
      },
      "execution_count": 8,
      "outputs": [
        {
          "output_type": "stream",
          "name": "stdout",
          "text": [
            "H\n",
            "Hello\n",
            "Hello\n",
            " my name is Ruby\n",
            "y\n",
            "Ruby\n",
            "Hello,  my name is Ruby, nice to meet you.\n"
          ]
        }
      ]
    },
    {
      "cell_type": "code",
      "source": [
        "first_array = np.array([1, 2, 3])\n",
        "\n",
        "# You can perform element-wise operations with array elements\n",
        "print(first_array + 10)\n",
        "\n",
        "# You can perform element-by-element operations\n",
        "second_array = np.array([3, 2, 1])\n"
      ],
      "metadata": {
        "id": "z98w3VSA0UI_",
        "collapsed": true,
        "colab": {
          "base_uri": "https://localhost:8080/"
        },
        "outputId": "419617da-f1dc-4f9c-cbfb-b26e81ec6e2e"
      },
      "execution_count": 9,
      "outputs": [
        {
          "output_type": "stream",
          "name": "stdout",
          "text": [
            "[11 12 13]\n"
          ]
        }
      ]
    },
    {
      "cell_type": "markdown",
      "source": [
        "As short as this intro is, it covers most of the things you will encounter in the language processing project.\n",
        "\n",
        "New functions will be explained when they are first used, and any other methods used to clean or filter the data, such as slicing, will be explained as well\n",
        "\n",
        "To \"visualize\" how this short intro becomes a large data analysis project, here is an outline of what has to be done\n",
        "\n",
        "1. Convert the entire transcript into a Python object. It will be a string, which is a very large collection of ordered characters.\n",
        "2. Extract each sentence and attribute it to a person. This can be easily done with a **dictionary**, where each person is a key, and their entire speech is the value associated with that key.\n",
        "3. We can use several methods to break down the entire speech of a person into manageable blocks. For instance, we can create a **list** of words by breaking the single string containing all the text into many individual strings.\n",
        "4. We can perform element-wise operator in each of the elements of the new list. For instance, we can go over all the words and check whether they are verbs.\n",
        "\n",
        "The power of programming comes from the fact that each object inside a list or a dictionary can itself be a list or a dictionary. As such, we can create a nearly infinite structure of organized data. So we will have a dictionary where each person has a list of lists: individual words they used, n-grams (groups of n-words), individual sentences, action words, etc."
      ],
      "metadata": {
        "id": "FUanGOhu4vgx"
      }
    }
  ]
}